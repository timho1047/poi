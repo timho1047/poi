{
 "cells": [
  {
   "cell_type": "code",
   "execution_count": 1,
   "id": "b8b5de3b",
   "metadata": {},
   "outputs": [
    {
     "name": "stderr",
     "output_type": "stream",
     "text": [
      "/home/vislab/poi/.venv/lib/python3.13/site-packages/tqdm/auto.py:21: TqdmWarning: IProgress not found. Please update jupyter and ipywidgets. See https://ipywidgets.readthedocs.io/en/stable/user_install.html\n",
      "  from .autonotebook import tqdm as notebook_tqdm\n"
     ]
    },
    {
     "name": "stdout",
     "output_type": "stream",
     "text": [
      "🦥 Unsloth: Will patch your computer to enable 2x faster free finetuning.\n"
     ]
    },
    {
     "name": "stderr",
     "output_type": "stream",
     "text": [
      "Skipping import of cpp extensions due to incompatible torch version 2.8.0+cu128 for torchao version 0.14.0         Please see GitHub issue #2919 for more info\n"
     ]
    },
    {
     "name": "stdout",
     "output_type": "stream",
     "text": [
      "🦥 Unsloth Zoo will now patch everything to make training faster!\n",
      "==((====))==  Unsloth 2025.10.9: Fast Llama patching. Transformers: 4.56.2.\n",
      "   \\\\   /|    NVIDIA GeForce RTX 4090. Num GPUs = 1. Max memory: 23.516 GB. Platform: Linux.\n",
      "O^O/ \\_/ \\    Torch: 2.8.0+cu128. CUDA: 8.9. CUDA Toolkit: 12.8. Triton: 3.4.0\n",
      "\\        /    Bfloat16 = TRUE. FA [Xformers = 0.0.32.post2. FA2 = False]\n",
      " \"-____-\"     Free license: http://github.com/unslothai/unsloth\n",
      "Unsloth: Fast downloading is enabled - ignore downloading bars which are red colored!\n"
     ]
    },
    {
     "name": "stderr",
     "output_type": "stream",
     "text": [
      "Unsloth 2025.10.9 patched 32 layers with 0 QKV layers, 0 O layers and 0 MLP layers.\n"
     ]
    }
   ],
   "source": [
    "from poi import settings\n",
    "from poi.dataset.llm import load_prompt_completion_llm_dataset, load_tokenized_llm_dataset\n",
    "from poi.llm import LLMConfig, inference, load_fast_inference_model\n",
    "\n",
    "\n",
    "config = LLMConfig(run_name=\"llama3-nyc-test\", num_epochs=8, batch_size=8, gradient_accumulation_steps=8, do_eval=True)\n",
    "\n",
    "DATASET_DIR = settings.DATASETS_DIR / \"NYC\" / \"LLM Dataset\" / \"paper\"\n",
    "train_ds = load_prompt_completion_llm_dataset(DATASET_DIR / \"train_codebook.json\")\n",
    "test_ds = load_prompt_completion_llm_dataset(DATASET_DIR / \"test_codebook.json\")\n",
    "\n",
    "model = load_fast_inference_model(config)\n",
    "\n"
   ]
  },
  {
   "cell_type": "code",
   "execution_count": 1,
   "id": "287b219d",
   "metadata": {},
   "outputs": [
    {
     "name": "stderr",
     "output_type": "stream",
     "text": [
      "/home/vislab/poi/.venv/lib/python3.13/site-packages/tqdm/auto.py:21: TqdmWarning: IProgress not found. Please update jupyter and ipywidgets. See https://ipywidgets.readthedocs.io/en/stable/user_install.html\n",
      "  from .autonotebook import tqdm as notebook_tqdm\n"
     ]
    },
    {
     "name": "stdout",
     "output_type": "stream",
     "text": [
      "🦥 Unsloth: Will patch your computer to enable 2x faster free finetuning.\n"
     ]
    },
    {
     "name": "stderr",
     "output_type": "stream",
     "text": [
      "Skipping import of cpp extensions due to incompatible torch version 2.8.0+cu128 for torchao version 0.14.0         Please see GitHub issue #2919 for more info\n"
     ]
    },
    {
     "name": "stdout",
     "output_type": "stream",
     "text": [
      "🦥 Unsloth Zoo will now patch everything to make training faster!\n",
      "==((====))==  Unsloth 2025.10.9: Fast Llama patching. Transformers: 4.56.2.\n",
      "   \\\\   /|    NVIDIA GeForce RTX 4090. Num GPUs = 1. Max memory: 23.516 GB. Platform: Linux.\n",
      "O^O/ \\_/ \\    Torch: 2.8.0+cu128. CUDA: 8.9. CUDA Toolkit: 12.8. Triton: 3.4.0\n",
      "\\        /    Bfloat16 = TRUE. FA [Xformers = 0.0.32.post2. FA2 = False]\n",
      " \"-____-\"     Free license: http://github.com/unslothai/unsloth\n",
      "Unsloth: Fast downloading is enabled - ignore downloading bars which are red colored!\n"
     ]
    },
    {
     "name": "stderr",
     "output_type": "stream",
     "text": [
      "Unsloth 2025.10.9 patched 32 layers with 0 QKV layers, 0 O layers and 0 MLP layers.\n"
     ]
    }
   ],
   "source": [
    "from poi import settings\n",
    "from poi.dataset.llm import load_prompt_completion_llm_dataset, load_tokenized_llm_dataset\n",
    "from poi.llm import LLMConfig, inference, load_fast_inference_model\n",
    "\n",
    "\n",
    "config = LLMConfig(run_name=\"llama3-nyc-test-full-8\", num_epochs=8, batch_size=4, gradient_accumulation_steps=4, do_eval=True)\n",
    "\n",
    "DATASET_DIR = settings.DATASETS_DIR / \"NYC\" / \"LLM Dataset\" / \"paper\"\n",
    "train_ds = load_prompt_completion_llm_dataset(DATASET_DIR / \"train_codebook.json\")\n",
    "test_ds = load_prompt_completion_llm_dataset(DATASET_DIR / \"test_codebook.json\")\n",
    "\n",
    "model = load_fast_inference_model(config)\n"
   ]
  },
  {
   "cell_type": "code",
   "execution_count": 1,
   "id": "6bba99b6",
   "metadata": {},
   "outputs": [
    {
     "name": "stderr",
     "output_type": "stream",
     "text": [
      "/home/vislab/poi/.venv/lib/python3.13/site-packages/tqdm/auto.py:21: TqdmWarning: IProgress not found. Please update jupyter and ipywidgets. See https://ipywidgets.readthedocs.io/en/stable/user_install.html\n",
      "  from .autonotebook import tqdm as notebook_tqdm\n"
     ]
    },
    {
     "name": "stdout",
     "output_type": "stream",
     "text": [
      "🦥 Unsloth: Will patch your computer to enable 2x faster free finetuning.\n"
     ]
    },
    {
     "name": "stderr",
     "output_type": "stream",
     "text": [
      "Skipping import of cpp extensions due to incompatible torch version 2.8.0+cu128 for torchao version 0.14.0         Please see GitHub issue #2919 for more info\n"
     ]
    },
    {
     "name": "stdout",
     "output_type": "stream",
     "text": [
      "🦥 Unsloth Zoo will now patch everything to make training faster!\n",
      "==((====))==  Unsloth 2025.10.9: Fast Llama patching. Transformers: 4.56.2.\n",
      "   \\\\   /|    NVIDIA GeForce RTX 4090. Num GPUs = 1. Max memory: 23.516 GB. Platform: Linux.\n",
      "O^O/ \\_/ \\    Torch: 2.8.0+cu128. CUDA: 8.9. CUDA Toolkit: 12.8. Triton: 3.4.0\n",
      "\\        /    Bfloat16 = TRUE. FA [Xformers = 0.0.32.post2. FA2 = False]\n",
      " \"-____-\"     Free license: http://github.com/unslothai/unsloth\n",
      "Unsloth: Fast downloading is enabled - ignore downloading bars which are red colored!\n"
     ]
    },
    {
     "name": "stderr",
     "output_type": "stream",
     "text": [
      "Unsloth 2025.10.9 patched 32 layers with 0 QKV layers, 0 O layers and 0 MLP layers.\n"
     ]
    }
   ],
   "source": [
    "from poi import settings\n",
    "from poi.dataset.llm import load_prompt_completion_llm_dataset, load_tokenized_llm_dataset\n",
    "from poi.llm import LLMConfig, inference, load_fast_inference_model\n",
    "\n",
    "config = LLMConfig(run_name=\"llama3-nyc-test-no-sid\", num_epochs=8, batch_size=4, gradient_accumulation_steps=4, do_eval=True)\n",
    "\n",
    "DATASET_DIR = settings.DATASETS_DIR / \"NYC\" / \"LLM Dataset\" / \"paper\"\n",
    "\n",
    "train_ds = load_prompt_completion_llm_dataset(DATASET_DIR / \"train_id.json\")\n",
    "test_ds = load_prompt_completion_llm_dataset(DATASET_DIR / \"test_id.json\")\n",
    "\n",
    "test_model_no_sid = load_fast_inference_model(config)\n"
   ]
  },
  {
   "cell_type": "code",
   "execution_count": 1,
   "id": "a50f35fc",
   "metadata": {},
   "outputs": [
    {
     "name": "stderr",
     "output_type": "stream",
     "text": [
      "/home/vislab/poi/.venv/lib/python3.13/site-packages/tqdm/auto.py:21: TqdmWarning: IProgress not found. Please update jupyter and ipywidgets. See https://ipywidgets.readthedocs.io/en/stable/user_install.html\n",
      "  from .autonotebook import tqdm as notebook_tqdm\n"
     ]
    },
    {
     "name": "stdout",
     "output_type": "stream",
     "text": [
      "🦥 Unsloth: Will patch your computer to enable 2x faster free finetuning.\n"
     ]
    },
    {
     "name": "stderr",
     "output_type": "stream",
     "text": [
      "Skipping import of cpp extensions due to incompatible torch version 2.8.0+cu128 for torchao version 0.14.0         Please see GitHub issue #2919 for more info\n"
     ]
    },
    {
     "name": "stdout",
     "output_type": "stream",
     "text": [
      "🦥 Unsloth Zoo will now patch everything to make training faster!\n",
      "==((====))==  Unsloth 2025.10.9: Fast Llama patching. Transformers: 4.56.2.\n",
      "   \\\\   /|    NVIDIA GeForce RTX 4090. Num GPUs = 1. Max memory: 23.516 GB. Platform: Linux.\n",
      "O^O/ \\_/ \\    Torch: 2.8.0+cu128. CUDA: 8.9. CUDA Toolkit: 12.8. Triton: 3.4.0\n",
      "\\        /    Bfloat16 = TRUE. FA [Xformers = 0.0.32.post2. FA2 = False]\n",
      " \"-____-\"     Free license: http://github.com/unslothai/unsloth\n",
      "Unsloth: Fast downloading is enabled - ignore downloading bars which are red colored!\n"
     ]
    },
    {
     "name": "stderr",
     "output_type": "stream",
     "text": [
      "Unsloth 2025.10.9 patched 32 layers with 0 QKV layers, 0 O layers and 0 MLP layers.\n"
     ]
    }
   ],
   "source": [
    "from poi import settings\n",
    "from poi.dataset.llm import load_prompt_completion_llm_dataset, load_tokenized_llm_dataset\n",
    "from poi.llm import LLMConfig, inference, load_fast_inference_model\n",
    "\n",
    "\n",
    "DATASET_DIR = settings.DATASETS_DIR / \"NYC\" / \"LLM Dataset\" / \"ablation without SID\" / \"test_id.json\"\n",
    "TRAIN_DATASET_DIR = settings.DATASETS_DIR / \"NYC\" / \"LLM Dataset\" / \"ablation without SID\" / \"train_id.json\"\n",
    "max_examples = None\n",
    "\n",
    "\n",
    "config = LLMConfig(\n",
    "    run_name=\"llama3-nyc-no-sid\", num_epochs=8, batch_size=4, gradient_accumulation_steps=4, do_eval=True, resume_from_checkpoint=False\n",
    ")\n",
    "train_ds_no_sid = load_prompt_completion_llm_dataset(TRAIN_DATASET_DIR)\n",
    "tokenized_train_ds_no_sid = load_tokenized_llm_dataset(TRAIN_DATASET_DIR, config)\n",
    "ds_no_sid = load_prompt_completion_llm_dataset(DATASET_DIR)\n",
    "tokenized_ds_no_sid = load_tokenized_llm_dataset(DATASET_DIR, config)\n",
    "\n",
    "\n",
    "model_no_sid = load_fast_inference_model(config)\n"
   ]
  },
  {
   "cell_type": "code",
   "execution_count": 1,
   "id": "64746ec8",
   "metadata": {},
   "outputs": [
    {
     "name": "stderr",
     "output_type": "stream",
     "text": [
      "/home/vislab/poi/.venv/lib/python3.13/site-packages/tqdm/auto.py:21: TqdmWarning: IProgress not found. Please update jupyter and ipywidgets. See https://ipywidgets.readthedocs.io/en/stable/user_install.html\n",
      "  from .autonotebook import tqdm as notebook_tqdm\n"
     ]
    },
    {
     "name": "stdout",
     "output_type": "stream",
     "text": [
      "🦥 Unsloth: Will patch your computer to enable 2x faster free finetuning.\n"
     ]
    },
    {
     "name": "stderr",
     "output_type": "stream",
     "text": [
      "Skipping import of cpp extensions due to incompatible torch version 2.8.0+cu128 for torchao version 0.14.0         Please see GitHub issue #2919 for more info\n"
     ]
    },
    {
     "name": "stdout",
     "output_type": "stream",
     "text": [
      "🦥 Unsloth Zoo will now patch everything to make training faster!\n"
     ]
    },
    {
     "name": "stderr",
     "output_type": "stream",
     "text": [
      "Generating train split: 2848 examples [00:00, 121410.92 examples/s]\n",
      "Formatting prompt and completion: 100%|██████████| 2848/2848 [00:00<00:00, 65371.74 examples/s]\n",
      "Generating train split: 826 examples [00:00, 170362.66 examples/s]\n",
      "Formatting prompt and completion: 100%|██████████| 826/826 [00:00<00:00, 67184.34 examples/s]\n",
      "Generating train split: 1076 examples [00:00, 147298.25 examples/s]\n",
      "Formatting prompt and completion: 100%|██████████| 1076/1076 [00:00<00:00, 64436.54 examples/s]\n",
      "Generating train split: 820 examples [00:00, 205210.58 examples/s]\n",
      "Formatting prompt and completion: 100%|██████████| 820/820 [00:00<00:00, 68242.01 examples/s]\n"
     ]
    },
    {
     "name": "stdout",
     "output_type": "stream",
     "text": [
      "==((====))==  Unsloth 2025.10.9: Fast Llama patching. Transformers: 4.56.2.\n",
      "   \\\\   /|    NVIDIA GeForce RTX 4090. Num GPUs = 1. Max memory: 23.516 GB. Platform: Linux.\n",
      "O^O/ \\_/ \\    Torch: 2.8.0+cu128. CUDA: 8.9. CUDA Toolkit: 12.8. Triton: 3.4.0\n",
      "\\        /    Bfloat16 = TRUE. FA [Xformers = 0.0.32.post2. FA2 = False]\n",
      " \"-____-\"     Free license: http://github.com/unslothai/unsloth\n",
      "Unsloth: Fast downloading is enabled - ignore downloading bars which are red colored!\n"
     ]
    },
    {
     "name": "stderr",
     "output_type": "stream",
     "text": [
      "Unsloth 2025.10.9 patched 32 layers with 0 QKV layers, 0 O layers and 0 MLP layers.\n"
     ]
    }
   ],
   "source": [
    "from poi import settings\n",
    "from poi.dataset.llm import load_prompt_completion_llm_dataset, load_tokenized_llm_dataset\n",
    "from poi.llm import LLMConfig, inference, load_fast_inference_model\n",
    "\n",
    "\n",
    "config = LLMConfig(run_name=\"llama3-nyc-base\", num_epochs=8, batch_size=4, gradient_accumulation_steps=4, do_eval=True)\n",
    "\n",
    "DATASET_DIR = settings.DATASETS_DIR / \"NYC\" / \"LLM Dataset\" / \"rqvae-nyc-div0.25-commit0.5-lr5e-5\"\n",
    "train_base_ds = load_prompt_completion_llm_dataset(DATASET_DIR / \"train_codebook.json\")\n",
    "test_base_ds = load_prompt_completion_llm_dataset(DATASET_DIR / \"test_codebook.json\")\n",
    "test_all_base_ds = load_prompt_completion_llm_dataset(DATASET_DIR / \"test_all_codebook.json\")\n",
    "val_base_ds = load_prompt_completion_llm_dataset(DATASET_DIR / \"val_codebook.json\")\n",
    "\n",
    "base_model = load_fast_inference_model(config)\n"
   ]
  },
  {
   "cell_type": "code",
   "execution_count": null,
   "id": "d64c9c17",
   "metadata": {},
   "outputs": [
    {
     "name": "stdout",
     "output_type": "stream",
     "text": [
      "==((====))==  Unsloth 2025.10.9: Fast Llama patching. Transformers: 4.56.2.\n",
      "   \\\\   /|    NVIDIA GeForce RTX 4090. Num GPUs = 1. Max memory: 23.516 GB. Platform: Linux.\n",
      "O^O/ \\_/ \\    Torch: 2.8.0+cu128. CUDA: 8.9. CUDA Toolkit: 12.8. Triton: 3.4.0\n",
      "\\        /    Bfloat16 = TRUE. FA [Xformers = 0.0.32.post2. FA2 = False]\n",
      " \"-____-\"     Free license: http://github.com/unslothai/unsloth\n",
      "Unsloth: Fast downloading is enabled - ignore downloading bars which are red colored!\n"
     ]
    }
   ],
   "source": [
    "from unsloth import FastLanguageModel\n",
    "import torch\n",
    "\n",
    "device = torch.device(f\"cuda:{0}\" if torch.cuda.is_available() else \"cpu\")\n",
    "\n",
    "# Load model on the specific device for this rank\n",
    "pretrained_model, tokenizer = FastLanguageModel.from_pretrained(\n",
    "    model_name=config.model_id,\n",
    "    max_seq_length=config.max_length,\n",
    "    load_in_4bit=config.quantization_bits == 4,\n",
    "    load_in_8bit=config.quantization_bits == 8,\n",
    "    full_finetuning=False,\n",
    "    attn_implementation=\"flash_attention_2\",\n",
    "    device_map={\"\": device},\n",
    ")\n",
    "\n",
    "\n",
    "# model = FastLanguageModel.get_peft_model(\n",
    "#     model,\n",
    "#     r=config.lora_config.r,\n",
    "#     target_modules=config.lora_config.target_modules,\n",
    "#     lora_alpha=config.lora_config.lora_alpha,\n",
    "#     lora_dropout=config.lora_config.lora_dropout,\n",
    "#     bias=config.lora_config.bias,\n",
    "#     use_gradient_checkpointing=\"unsloth\",\n",
    "#     random_state=settings.RANDOM_STATE,\n",
    "# )\n"
   ]
  },
  {
   "cell_type": "code",
   "execution_count": 6,
   "id": "2fb50d34",
   "metadata": {},
   "outputs": [],
   "source": [
    "pretrained_model = pretrained_model.for_inference()\n"
   ]
  },
  {
   "cell_type": "code",
   "execution_count": 2,
   "id": "43bd651e",
   "metadata": {},
   "outputs": [],
   "source": [
    "from tqdm import tqdm\n",
    "def eval(model, ds):\n",
    "    total = len(ds) \n",
    "    correct = 0\n",
    "    for i in tqdm(range(total)):\n",
    "        res = \"\"\n",
    "        retry_count = 0\n",
    "        while retry_count < 5 and res == \"\":\n",
    "            res = inference(config, model, ds[i][\"prompt\"]+\"<a_\").strip() # provide <a_ as prefix hint\n",
    "            retry_count += 1\n",
    "        res = \"<a_\" + res\n",
    "        if ds[i][\"completion\"] in res:\n",
    "            correct += 1\n",
    "    return correct / total\n",
    "\n",
    "def eval_no_sid(model, ds):\n",
    "    total = len(ds)\n",
    "    correct = 0\n",
    "    for i in tqdm(range(total)):\n",
    "        res = \"\"\n",
    "        retry_count = 0\n",
    "        while retry_count < 5 and res == \"\":\n",
    "            res = inference(config, model, ds[i][\"prompt\"] + \"<\").strip()\n",
    "            retry_count += 1\n",
    "        res = \"<\" + res\n",
    "            \n",
    "        if ds[i][\"completion\"] in res:\n",
    "            correct += 1\n",
    "\n",
    "    return correct / total\n"
   ]
  },
  {
   "cell_type": "code",
   "execution_count": 3,
   "id": "22b49845",
   "metadata": {},
   "outputs": [
    {
     "name": "stdout",
     "output_type": "stream",
     "text": [
      "-------------input--------------\n",
      "Here is a record of a user's POI accesses, your task is based on the history to predict the POI that the user is likely to access at the specified time.\n",
      "User_4 visited: <a_3><b_25><c_3><d_0> at 2012-05-15 19:45, <a_3><b_17><c_0> at 2012-05-15 19:49, <a_8><b_27><c_26> at 2012-05-15 20:12, <a_10><b_24><c_9><d_1> at 2012-05-16 05:26, <a_6><b_31><c_3> at 2012-05-16 05:28, <a_27><b_20><c_25><d_1> at 2012-05-16 09:35, <a_10><b_24><c_9><d_1> at 2012-05-16 12:41, <a_6><b_31><c_3> at 2012-05-16 12:42, <a_10><b_24><c_9><d_1> at 2012-05-16 13:19, <a_1><b_29><c_14><d_2> at 2012-05-16 16:50, <a_1><b_10><c_17> at 2012-05-16 17:01, <a_23><b_10><c_22> at 2012-05-16 17:02, <a_6><b_12><c_6> at 2012-05-16 17:25, <a_26><b_30><c_22> at 2012-05-16 17:25, <a_23><b_30><c_23><d_1> at 2012-05-16 17:26, <a_26><b_30><c_22> at 2012-05-17 06:48, <a_23><b_30><c_23><d_1> at 2012-05-17 06:48, <a_6><b_12><c_6> at 2012-05-17 06:48, <a_23><b_10><c_22> at 2012-05-17 06:49, <a_1><b_10><c_17> at 2012-05-17 06:50, <a_1><b_29><c_14><d_2> at 2012-05-17 07:04, <a_1><b_27><c_7><d_1> at 2012-05-17 07:35, <a_23><b_18><c_21> at 2012-05-17 07:39, <a_10><b_24><c_9><d_1> at 2012-05-17 07:47, <a_10><b_24><c_18> at 2012-05-17 07:48, <a_27><b_20><c_25><d_1> at 2012-05-17 07:54, <a_6><b_31><c_3> at 2012-05-17 08:04, <a_6><b_31><c_3> at 2012-05-18 08:29, <a_10><b_24><c_9><d_1> at 2012-05-18 19:52, <a_10><b_24><c_9><d_1> at 2012-05-18 19:52, <a_8><b_27><c_26> at 2012-05-18 21:14, <a_23><b_30><c_23><d_1> at 2012-05-21 06:53, <a_26><b_30><c_22> at 2012-05-21 06:53, <a_6><b_12><c_6> at 2012-05-21 06:53, <a_1><b_10><c_17> at 2012-05-21 06:56, <a_23><b_10><c_22> at 2012-05-21 06:56, <a_1><b_27><c_7><d_1> at 2012-05-21 07:33, <a_23><b_18><c_21> at 2012-05-21 07:41, <a_10><b_24><c_9><d_1> at 2012-05-21 07:52, <a_10><b_24><c_18> at 2012-05-21 07:52, <a_27><b_20><c_25><d_1> at 2012-05-21 07:56, <a_6><b_31><c_3> at 2012-05-21 08:03, <a_23><b_30><c_23><d_1> at 2012-05-22 07:15, <a_26><b_30><c_22> at 2012-05-22 07:15, <a_23><b_10><c_22> at 2012-05-22 07:16, <a_6><b_12><c_6> at 2012-05-22 07:16, <a_1><b_10><c_17> at 2012-05-22 07:19, <a_1><b_27><c_7><d_1> at 2012-05-22 07:58, <a_23><b_18><c_21> at 2012-05-22 08:04. When 2012-05-22 08:09 user_4 is likely to visit: \n",
      "-------------response--------------\n",
      "<a_17><b_27><c_29>\n",
      "-------------correct--------------\n",
      "<a_10><b_24><c_9><d_1>\n"
     ]
    }
   ],
   "source": [
    "\n",
    "\n",
    "index = 9\n",
    "res = inference(config, model, test_ds[index][\"prompt\"] + \"<a_\")\n",
    "res = \"<a_\" + res\n",
    "\n",
    "print(\"-------------input--------------\")\n",
    "print(train_ds[index][\"prompt\"])\n",
    "print(\"-------------response--------------\")\n",
    "print(res)\n",
    "print(\"-------------correct--------------\")\n",
    "print(train_ds[index][\"completion\"])\n"
   ]
  },
  {
   "cell_type": "code",
   "execution_count": 3,
   "id": "f304a204",
   "metadata": {},
   "outputs": [
    {
     "name": "stderr",
     "output_type": "stream",
     "text": [
      "100%|██████████| 876/876 [05:24<00:00,  2.70it/s]\n"
     ]
    },
    {
     "name": "stdout",
     "output_type": "stream",
     "text": [
      "Test Accuracy: 0.3276255707762557\n"
     ]
    },
    {
     "name": "stderr",
     "output_type": "stream",
     "text": [
      "100%|██████████| 2848/2848 [17:29<00:00,  2.71it/s]"
     ]
    },
    {
     "name": "stdout",
     "output_type": "stream",
     "text": [
      "Train Accuracy: 0.36797752808988765\n"
     ]
    },
    {
     "name": "stderr",
     "output_type": "stream",
     "text": [
      "\n"
     ]
    }
   ],
   "source": [
    "# NYC base trained on paper-provided NYC train_codebook.json, best model\n",
    "test_res = eval(model, test_ds)\n",
    "print(f\"Test Accuracy: {test_res}\")\n",
    "\n",
    "train_res = eval(model, train_ds)\n",
    "print(f\"Train Accuracy: {train_res}\")"
   ]
  },
  {
   "cell_type": "code",
   "execution_count": 3,
   "id": "3cc60d9f",
   "metadata": {},
   "outputs": [
    {
     "name": "stderr",
     "output_type": "stream",
     "text": [
      "100%|██████████| 2848/2848 [17:28<00:00,  2.72it/s]\n"
     ]
    },
    {
     "name": "stdout",
     "output_type": "stream",
     "text": [
      "Train Accuracy: 0.6386938202247191\n"
     ]
    },
    {
     "name": "stderr",
     "output_type": "stream",
     "text": [
      "100%|██████████| 876/876 [05:24<00:00,  2.70it/s]"
     ]
    },
    {
     "name": "stdout",
     "output_type": "stream",
     "text": [
      "Test Accuracy: 0.3230593607305936\n"
     ]
    },
    {
     "name": "stderr",
     "output_type": "stream",
     "text": [
      "\n"
     ]
    }
   ],
   "source": [
    "# NYC base trained on paper-provided NYC train_codebook.json, full 8 epochs\n",
    "train_res = eval(model, train_ds)\n",
    "print(f\"Train Accuracy: {train_res}\")\n",
    "\n",
    "test_res = eval(model, test_ds)\n",
    "print(f\"Test Accuracy: {test_res}\")\n"
   ]
  },
  {
   "cell_type": "code",
   "execution_count": null,
   "id": "bd68b993",
   "metadata": {},
   "outputs": [
    {
     "name": "stderr",
     "output_type": "stream",
     "text": [
      "100%|██████████| 876/876 [42:11<00:00,  2.89s/it]  "
     ]
    },
    {
     "name": "stdout",
     "output_type": "stream",
     "text": [
      "Accuracy: 0.2146118721461187\n"
     ]
    },
    {
     "name": "stderr",
     "output_type": "stream",
     "text": [
      "\n"
     ]
    }
   ],
   "source": [
    "# Not trained\n",
    "res = eval(pretrained_model, ds)\n",
    "print(f\"Accuracy: {res}\")"
   ]
  },
  {
   "cell_type": "code",
   "execution_count": null,
   "id": "09c89516",
   "metadata": {},
   "outputs": [
    {
     "name": "stderr",
     "output_type": "stream",
     "text": [
      "100%|██████████| 826/826 [01:45<00:00,  7.82it/s]"
     ]
    },
    {
     "name": "stdout",
     "output_type": "stream",
     "text": [
      "Accuracy: 0.30145278450363194\n"
     ]
    },
    {
     "name": "stderr",
     "output_type": "stream",
     "text": [
      "\n"
     ]
    }
   ],
   "source": [
    "# NYC trained on ablation without SID (we produce)\n",
    "res = eval_no_sid(model_no_sid, ds_no_sid)\n",
    "print(f\"Accuracy: {res}\")\n"
   ]
  },
  {
   "cell_type": "code",
   "execution_count": 3,
   "id": "e6c516de",
   "metadata": {},
   "outputs": [
    {
     "name": "stderr",
     "output_type": "stream",
     "text": [
      "100%|██████████| 2848/2848 [16:36<00:00,  2.86it/s]\n"
     ]
    },
    {
     "name": "stdout",
     "output_type": "stream",
     "text": [
      "Train Accuracy: 0.38974719101123595\n"
     ]
    },
    {
     "name": "stderr",
     "output_type": "stream",
     "text": [
      "100%|██████████| 826/826 [03:41<00:00,  3.72it/s]\n"
     ]
    },
    {
     "name": "stdout",
     "output_type": "stream",
     "text": [
      "Test Accuracy: 0.33292978208232443\n"
     ]
    },
    {
     "name": "stderr",
     "output_type": "stream",
     "text": [
      "100%|██████████| 1076/1076 [06:17<00:00,  2.85it/s]\n"
     ]
    },
    {
     "name": "stdout",
     "output_type": "stream",
     "text": [
      "Test All Accuracy: 0.35223048327137546\n"
     ]
    },
    {
     "name": "stderr",
     "output_type": "stream",
     "text": [
      "100%|██████████| 820/820 [03:37<00:00,  3.78it/s]"
     ]
    },
    {
     "name": "stdout",
     "output_type": "stream",
     "text": [
      "Val Accuracy: 0.2939024390243902\n"
     ]
    },
    {
     "name": "stderr",
     "output_type": "stream",
     "text": [
      "\n"
     ]
    }
   ],
   "source": [
    "# rqvae-nyc-div0.25-commit0.5-lr5e-5, base model\n",
    "train_res = eval(base_model, train_base_ds)\n",
    "print(f\"Train Accuracy: {train_res}\")\n",
    "\n",
    "test_res = eval(base_model, test_base_ds)\n",
    "print(f\"Test Accuracy: {test_res}\")\n",
    "\n",
    "test_all_res = eval(base_model, test_all_base_ds)\n",
    "print(f\"Test All Accuracy: {test_all_res}\")\n",
    "\n",
    "val_res = eval(base_model, val_base_ds)\n",
    "print(f\"Val Accuracy: {val_res}\")"
   ]
  },
  {
   "cell_type": "code",
   "execution_count": 3,
   "id": "c3a8b205",
   "metadata": {},
   "outputs": [
    {
     "name": "stderr",
     "output_type": "stream",
     "text": [
      "100%|██████████| 876/876 [02:36<00:00,  5.60it/s]\n"
     ]
    },
    {
     "name": "stdout",
     "output_type": "stream",
     "text": [
      "Test Accuracy: 0.3310502283105023\n"
     ]
    },
    {
     "name": "stderr",
     "output_type": "stream",
     "text": [
      "100%|██████████| 2848/2848 [08:25<00:00,  5.63it/s]"
     ]
    },
    {
     "name": "stdout",
     "output_type": "stream",
     "text": [
      "Train Accuracy: 0.4097612359550562\n"
     ]
    },
    {
     "name": "stderr",
     "output_type": "stream",
     "text": [
      "\n"
     ]
    }
   ],
   "source": [
    "# paper, no sid\n",
    "res = eval_no_sid(test_model_no_sid, test_ds)\n",
    "print(f\"Test Accuracy: {res}\")\n",
    "\n",
    "res = eval_no_sid(test_model_no_sid, train_ds)\n",
    "print(f\"Train Accuracy: {res}\")\n"
   ]
  },
  {
   "cell_type": "code",
   "execution_count": 34,
   "id": "684297e3",
   "metadata": {},
   "outputs": [],
   "source": [
    "from pathlib import Path\n",
    "from tqdm import tqdm\n",
    "from poi.llm import inference\n",
    "\n",
    "def record_inference_results(model, ds, file_name):\n",
    "    total = len(ds)\n",
    "    results = []\n",
    "    results_path = Path(file_name)\n",
    "    results_path.write_text(\"correct\\tgold\\tprediction\\n\")\n",
    "    for i in tqdm(range(total)):\n",
    "        res = \"\"\n",
    "        retry_count = 0\n",
    "        while retry_count < 5 and res == \"\":\n",
    "            res = inference(config, model, ds[i][\"prompt\"] + \"<a_\").strip()\n",
    "            retry_count += 1\n",
    "        res = \"<a_\" + res\n",
    "        results.append({\n",
    "            \"correct\": ds[i][\"completion\"],\n",
    "            \"prediction\": res\n",
    "        })\n",
    "        with results_path.open(\"a\") as f:\n",
    "            f.write(f\"{ds[i]['completion']==res}\\t{ds[i]['completion']}\\t{res}\\n\")\n",
    "    return results"
   ]
  },
  {
   "cell_type": "code",
   "execution_count": 32,
   "id": "9c6384ac",
   "metadata": {},
   "outputs": [
    {
     "name": "stderr",
     "output_type": "stream",
     "text": [
      "100%|██████████| 2848/2848 [17:32<00:00,  2.71it/s]\n"
     ]
    },
    {
     "name": "stdout",
     "output_type": "stream",
     "text": [
      "Train Accuracy: 0.3753511235955056\n"
     ]
    },
    {
     "name": "stderr",
     "output_type": "stream",
     "text": [
      "100%|██████████| 876/876 [05:25<00:00,  2.69it/s]"
     ]
    },
    {
     "name": "stdout",
     "output_type": "stream",
     "text": [
      "Test Accuracy: 0.3356164383561644\n"
     ]
    },
    {
     "name": "stderr",
     "output_type": "stream",
     "text": [
      "\n"
     ]
    }
   ],
   "source": [
    "# NYC base trained on paper-provided NYC train_codebook.json, best model, given <a_ as prefix hint\n",
    "train_res = eval(model, train_ds)\n",
    "print(f\"Train Accuracy: {train_res}\")\n",
    "\n",
    "test_res = eval(model, test_ds)\n",
    "print(f\"Test Accuracy: {test_res}\")\n"
   ]
  },
  {
   "cell_type": "code",
   "execution_count": 35,
   "id": "bd7e57c7",
   "metadata": {},
   "outputs": [
    {
     "name": "stderr",
     "output_type": "stream",
     "text": [
      "100%|██████████| 876/876 [05:24<00:00,  2.70it/s]\n"
     ]
    }
   ],
   "source": [
    "res = record_inference_results(model, test_ds, \"inference_results_prefix_hint.csv\")"
   ]
  }
 ],
 "metadata": {
  "kernelspec": {
   "display_name": ".venv",
   "language": "python",
   "name": "python3"
  },
  "language_info": {
   "codemirror_mode": {
    "name": "ipython",
    "version": 3
   },
   "file_extension": ".py",
   "mimetype": "text/x-python",
   "name": "python",
   "nbconvert_exporter": "python",
   "pygments_lexer": "ipython3",
   "version": "3.13.7"
  }
 },
 "nbformat": 4,
 "nbformat_minor": 5
}
