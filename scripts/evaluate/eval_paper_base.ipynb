{
 "cells": [
  {
   "cell_type": "code",
   "execution_count": 1,
   "id": "1f6ef7fc",
   "metadata": {},
   "outputs": [
    {
     "name": "stdout",
     "output_type": "stream",
     "text": [
      "🦥 Unsloth: Will patch your computer to enable 2x faster free finetuning.\n"
     ]
    },
    {
     "name": "stderr",
     "output_type": "stream",
     "text": [
      "/workspace/poi/.venv/lib/python3.13/site-packages/tqdm/auto.py:21: TqdmWarning: IProgress not found. Please update jupyter and ipywidgets. See https://ipywidgets.readthedocs.io/en/stable/user_install.html\n",
      "  from .autonotebook import tqdm as notebook_tqdm\n",
      "Skipping import of cpp extensions due to incompatible torch version 2.8.0+cu128 for torchao version 0.14.0         Please see GitHub issue #2919 for more info\n"
     ]
    },
    {
     "name": "stdout",
     "output_type": "stream",
     "text": [
      "🦥 Unsloth Zoo will now patch everything to make training faster!\n",
      "==((====))==  Unsloth 2025.10.9: Fast Llama patching. Transformers: 4.56.2.\n",
      "   \\\\   /|    NVIDIA RTX 6000 Ada Generation. Num GPUs = 1. Max memory: 47.372 GB. Platform: Linux.\n",
      "O^O/ \\_/ \\    Torch: 2.8.0+cu128. CUDA: 8.9. CUDA Toolkit: 12.8. Triton: 3.4.0\n",
      "\\        /    Bfloat16 = TRUE. FA [Xformers = 0.0.32.post2. FA2 = False]\n",
      " \"-____-\"     Free license: http://github.com/unslothai/unsloth\n",
      "Unsloth: Fast downloading is enabled - ignore downloading bars which are red colored!\n"
     ]
    },
    {
     "name": "stderr",
     "output_type": "stream",
     "text": [
      "Loading checkpoint shards: 100%|██████████| 4/4 [00:01<00:00,  2.03it/s]\n",
      "Unsloth 2025.10.9 patched 32 layers with 0 QKV layers, 0 O layers and 0 MLP layers.\n"
     ]
    }
   ],
   "source": [
    "from unsloth import FastLanguageModel\n",
    "from poi import settings\n",
    "from poi.dataset.llm import load_prompt_completion_llm_dataset, load_tokenized_llm_dataset\n",
    "from poi.llm import LLMConfig, inference, load_fast_inference_model\n",
    "\n",
    "\n",
    "config = LLMConfig(\n",
    "        run_name=\"llama3-nyc-test-full-fintune\", num_epochs=8, batch_size=4, gradient_accumulation_steps=16, do_eval=True, resume_from_checkpoint=True\n",
    "    )\n",
    "\n",
    "DATASET_DIR = settings.DATASETS_DIR / \"NYC\" / \"LLM Dataset\" / \"paper\"\n",
    "train_ds = load_prompt_completion_llm_dataset(DATASET_DIR / \"train_codebook.json\")\n",
    "test_ds = load_prompt_completion_llm_dataset(DATASET_DIR / \"test_codebook.json\")\n",
    "\n",
    "\n",
    "model, _ = FastLanguageModel.from_pretrained(\n",
    "    model_name=config.output_dir.as_posix(),\n",
    "    max_seq_length=config.max_length,\n",
    "    dtype=None,\n",
    "    load_in_4bit=False,\n",
    "    load_in_8bit=False,\n",
    ")\n",
    "model = FastLanguageModel.for_inference(model)\n"
   ]
  },
  {
   "cell_type": "code",
   "execution_count": 2,
   "id": "86c318fd",
   "metadata": {},
   "outputs": [],
   "source": [
    "from tqdm import tqdm\n",
    "\n",
    "\n",
    "def eval(model, ds):\n",
    "    total = len(ds)\n",
    "    correct = 0\n",
    "    for i in tqdm(range(total)):\n",
    "        res = \"\"\n",
    "        retry_count = 0\n",
    "        while retry_count < 5 and res == \"\":\n",
    "            res = inference(config, model, ds[i][\"prompt\"] + \"<a_\").strip()  # provide <a_ as prefix hint\n",
    "            retry_count += 1\n",
    "        res = \"<a_\" + res\n",
    "        if ds[i][\"completion\"] in res:\n",
    "            correct += 1\n",
    "    return correct / total\n"
   ]
  },
  {
   "cell_type": "code",
   "execution_count": 3,
   "id": "73f810f4",
   "metadata": {},
   "outputs": [
    {
     "name": "stderr",
     "output_type": "stream",
     "text": [
      "  0%|          | 0/876 [00:00<?, ?it/s]"
     ]
    },
    {
     "name": "stderr",
     "output_type": "stream",
     "text": [
      "100%|██████████| 876/876 [08:52<00:00,  1.65it/s]\n"
     ]
    },
    {
     "name": "stdout",
     "output_type": "stream",
     "text": [
      "Test Accuracy: 0.3276255707762557\n"
     ]
    },
    {
     "name": "stderr",
     "output_type": "stream",
     "text": [
      "100%|██████████| 2848/2848 [28:52<00:00,  1.64it/s]"
     ]
    },
    {
     "name": "stdout",
     "output_type": "stream",
     "text": [
      "Train Accuracy: 0.37429775280898875\n"
     ]
    },
    {
     "name": "stderr",
     "output_type": "stream",
     "text": [
      "\n"
     ]
    }
   ],
   "source": [
    "# NYC base trained on paper-provided NYC train_codebook.json, best model, no quantization\n",
    "test_res = eval(model, test_ds)\n",
    "print(f\"Test Accuracy: {test_res}\")\n",
    "\n",
    "train_res = eval(model, train_ds)\n",
    "print(f\"Train Accuracy: {train_res}\")"
   ]
  }
 ],
 "metadata": {
  "kernelspec": {
   "display_name": ".venv",
   "language": "python",
   "name": "python3"
  },
  "language_info": {
   "codemirror_mode": {
    "name": "ipython",
    "version": 3
   },
   "file_extension": ".py",
   "mimetype": "text/x-python",
   "name": "python",
   "nbconvert_exporter": "python",
   "pygments_lexer": "ipython3",
   "version": "3.13.7"
  }
 },
 "nbformat": 4,
 "nbformat_minor": 5
}
