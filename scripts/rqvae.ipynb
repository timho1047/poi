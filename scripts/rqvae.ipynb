{
 "cells": [
  {
   "cell_type": "code",
   "execution_count": 3,
   "id": "cacae99b",
   "metadata": {},
   "outputs": [
    {
     "name": "stdout",
     "output_type": "stream",
     "text": [
      "[POIDataset] Loaded features from /home/vislab/poi/datasets/GWL/poi_features.pt, shape: torch.Size([16368, 8706])\n",
      "[DataLoader] Created with batch_size=128, shuffle=True, num_workers=4, pin_memory=True, drop_last=False\n"
     ]
    },
    {
     "data": {
      "text/plain": [
       "RQVAE(\n",
       "  (encoder): Encoder(\n",
       "    (layers): Sequential(\n",
       "      (0): Linear(in_features=8706, out_features=1024, bias=True)\n",
       "      (1): BatchNorm1d(1024, eps=1e-05, momentum=0.1, affine=True, track_running_stats=True)\n",
       "      (2): ReLU(inplace=True)\n",
       "      (3): Linear(in_features=1024, out_features=512, bias=True)\n",
       "      (4): BatchNorm1d(512, eps=1e-05, momentum=0.1, affine=True, track_running_stats=True)\n",
       "      (5): ReLU(inplace=True)\n",
       "      (6): Linear(in_features=512, out_features=128, bias=True)\n",
       "      (7): BatchNorm1d(128, eps=1e-05, momentum=0.1, affine=True, track_running_stats=True)\n",
       "      (8): ReLU(inplace=True)\n",
       "    )\n",
       "    (proj): Linear(in_features=128, out_features=64, bias=True)\n",
       "  )\n",
       "  (decoder): Decoder(\n",
       "    (layers): Sequential(\n",
       "      (0): Linear(in_features=64, out_features=128, bias=True)\n",
       "      (1): BatchNorm1d(128, eps=1e-05, momentum=0.1, affine=True, track_running_stats=True)\n",
       "      (2): ReLU(inplace=True)\n",
       "      (3): Linear(in_features=128, out_features=512, bias=True)\n",
       "      (4): BatchNorm1d(512, eps=1e-05, momentum=0.1, affine=True, track_running_stats=True)\n",
       "      (5): ReLU(inplace=True)\n",
       "      (6): Linear(in_features=512, out_features=1024, bias=True)\n",
       "      (7): BatchNorm1d(1024, eps=1e-05, momentum=0.1, affine=True, track_running_stats=True)\n",
       "      (8): ReLU(inplace=True)\n",
       "    )\n",
       "    (proj): Linear(in_features=1024, out_features=8706, bias=True)\n",
       "  )\n",
       "  (quantizer): ResidualVectorQuantizer(\n",
       "    (quantizers): ModuleList(\n",
       "      (0-2): 3 x VectorQuantizer(\n",
       "        (vectors): Embedding(64, 64)\n",
       "      )\n",
       "    )\n",
       "  )\n",
       "  (recon_criterion): MSELoss()\n",
       ")"
      ]
     },
     "execution_count": 3,
     "metadata": {},
     "output_type": "execute_result"
    }
   ],
   "source": [
    "from poi.rqvae import RQVAE\n",
    "from poi.train.config import RQVAEConfig\n",
    "from poi.settings import DEVICE\n",
    "from poi.dataset.rqvae import get_dataloader\n",
    "\n",
    "config = RQVAEConfig()\n",
    "\n",
    "train_loader = get_dataloader(config.dataset_path, batch_size=config.batch_size, num_workers=config.num_dataloader_workers, device=DEVICE)\n",
    "\n",
    "model = RQVAE(\n",
    "    embedding_dim=config.embedding_dim,\n",
    "    vae_hidden_dims=config.vae_hidden_dims,\n",
    "    vector_dim=config.vector_dim,\n",
    "    vector_num=config.vector_num,\n",
    "    codebook_num=config.codebook_num,\n",
    "    commitment_weight=config.commitment_weight,\n",
    "    random_state=config.random_state,\n",
    ").to(DEVICE)\n",
    "\n",
    "model.eval()\n",
    "\n"
   ]
  },
  {
   "cell_type": "code",
   "execution_count": 37,
   "id": "8c2cf02a",
   "metadata": {},
   "outputs": [],
   "source": [
    "import torch\n",
    "\n",
    "ckp = torch.load(config.checkpoint_best_path)\n",
    "\n",
    "# config.checkpoint_best_path"
   ]
  },
  {
   "cell_type": "code",
   "execution_count": 40,
   "id": "33ede710",
   "metadata": {},
   "outputs": [],
   "source": [
    "res = model.load_state_dict(ckp[\"model_state_dict\"])\n",
    "\n",
    "# ckp.keys()"
   ]
  },
  {
   "cell_type": "code",
   "execution_count": 41,
   "id": "deda0d3e",
   "metadata": {},
   "outputs": [
    {
     "data": {
      "text/plain": [
       "<All keys matched successfully>"
      ]
     },
     "execution_count": 41,
     "metadata": {},
     "output_type": "execute_result"
    }
   ],
   "source": [
    "res"
   ]
  },
  {
   "cell_type": "code",
   "execution_count": 24,
   "id": "197b69f2",
   "metadata": {},
   "outputs": [
    {
     "data": {
      "text/plain": [
       "16368"
      ]
     },
     "execution_count": 24,
     "metadata": {},
     "output_type": "execute_result"
    }
   ],
   "source": [
    "len(train_loader.dataset)"
   ]
  },
  {
   "cell_type": "code",
   "execution_count": 17,
   "id": "dd68032f",
   "metadata": {},
   "outputs": [],
   "source": [
    "x = next(iter(train_loader)).to(DEVICE)\n",
    "\n",
    "# "
   ]
  },
  {
   "cell_type": "code",
   "execution_count": 18,
   "id": "213881da",
   "metadata": {},
   "outputs": [
    {
     "data": {
      "text/plain": [
       "device(type='cuda', index=0)"
      ]
     },
     "execution_count": 18,
     "metadata": {},
     "output_type": "execute_result"
    }
   ],
   "source": [
    "x.device"
   ]
  },
  {
   "cell_type": "code",
   "execution_count": 21,
   "id": "c6878a31",
   "metadata": {},
   "outputs": [
    {
     "data": {
      "text/plain": [
       "torch.Size([128, 8706])"
      ]
     },
     "execution_count": 21,
     "metadata": {},
     "output_type": "execute_result"
    }
   ],
   "source": [
    "x.size()"
   ]
  },
  {
   "cell_type": "code",
   "execution_count": 42,
   "id": "9bf3096e",
   "metadata": {},
   "outputs": [
    {
     "data": {
      "text/plain": [
       "torch.Size([2])"
      ]
     },
     "execution_count": 42,
     "metadata": {},
     "output_type": "execute_result"
    }
   ],
   "source": [
    "quantized, cur_loss, all_indices = model.forward(x[:2])\n",
    "all_indices[0].size()\n"
   ]
  },
  {
   "cell_type": "code",
   "execution_count": 43,
   "id": "b2a09264",
   "metadata": {},
   "outputs": [
    {
     "data": {
      "text/plain": [
       "[tensor([31, 51], device='cuda:0'),\n",
       " tensor([28, 44], device='cuda:0'),\n",
       " tensor([ 1, 23], device='cuda:0')]"
      ]
     },
     "execution_count": 43,
     "metadata": {},
     "output_type": "execute_result"
    }
   ],
   "source": [
    "all_indices"
   ]
  },
  {
   "cell_type": "code",
   "execution_count": 57,
   "id": "973d85a9",
   "metadata": {},
   "outputs": [
    {
     "data": {
      "text/plain": [
       "['<a_31><b_28><c_1>',\n",
       " '<a_51><b_44><c_23>',\n",
       " '<a_2><b_19><c_3>',\n",
       " '<a_2><b_32><c_32>',\n",
       " '<a_46><b_8><c_7>',\n",
       " '<a_28><b_46><c_28>',\n",
       " '<a_23><b_61><c_35>',\n",
       " '<a_52><b_0><c_39>',\n",
       " '<a_19><b_60><c_45>',\n",
       " '<a_50><b_48><c_45>',\n",
       " '<a_4><b_10><c_11>',\n",
       " '<a_40><b_36><c_45>',\n",
       " '<a_15><b_63><c_55>',\n",
       " '<a_51><b_14><c_34>',\n",
       " '<a_45><b_12><c_50>',\n",
       " '<a_36><b_58><c_3>',\n",
       " '<a_2><b_54><c_9>',\n",
       " '<a_1><b_6><c_38>',\n",
       " '<a_50><b_57><c_19>',\n",
       " '<a_30><b_24><c_2>',\n",
       " '<a_22><b_14><c_15>',\n",
       " '<a_55><b_5><c_40>',\n",
       " '<a_2><b_14><c_17>',\n",
       " '<a_35><b_59><c_42>',\n",
       " '<a_51><b_42><c_56>',\n",
       " '<a_44><b_61><c_29>',\n",
       " '<a_6><b_56><c_54>',\n",
       " '<a_15><b_57><c_49>',\n",
       " '<a_12><b_11><c_58>',\n",
       " '<a_44><b_56><c_62>',\n",
       " '<a_59><b_39><c_11>',\n",
       " '<a_9><b_49><c_1>',\n",
       " '<a_0><b_14><c_48>',\n",
       " '<a_34><b_16><c_43>',\n",
       " '<a_44><b_61><c_23>',\n",
       " '<a_20><b_0><c_26>',\n",
       " '<a_6><b_46><c_34>',\n",
       " '<a_60><b_56><c_55>',\n",
       " '<a_60><b_50><c_61>',\n",
       " '<a_24><b_63><c_16>',\n",
       " '<a_59><b_31><c_35>',\n",
       " '<a_57><b_30><c_34>',\n",
       " '<a_30><b_58><c_43>',\n",
       " '<a_15><b_18><c_41>',\n",
       " '<a_13><b_62><c_20>',\n",
       " '<a_11><b_11><c_25>',\n",
       " '<a_49><b_38><c_22>',\n",
       " '<a_43><b_59><c_22>',\n",
       " '<a_54><b_2><c_58>',\n",
       " '<a_50><b_16><c_59>',\n",
       " '<a_40><b_28><c_57>',\n",
       " '<a_57><b_46><c_56>',\n",
       " '<a_56><b_38><c_51>',\n",
       " '<a_46><b_22><c_2>',\n",
       " '<a_35><b_25><c_5>',\n",
       " '<a_32><b_14><c_12>',\n",
       " '<a_56><b_44><c_5>',\n",
       " '<a_33><b_26><c_19>',\n",
       " '<a_53><b_12><c_34>',\n",
       " '<a_1><b_49><c_50>',\n",
       " '<a_12><b_44><c_22>',\n",
       " '<a_13><b_54><c_26>',\n",
       " '<a_13><b_61><c_3>',\n",
       " '<a_36><b_33><c_25>',\n",
       " '<a_14><b_7><c_17>',\n",
       " '<a_56><b_49><c_53>',\n",
       " '<a_27><b_61><c_14>',\n",
       " '<a_47><b_43><c_48>',\n",
       " '<a_59><b_43><c_2>',\n",
       " '<a_59><b_57><c_13>',\n",
       " '<a_35><b_28><c_42>',\n",
       " '<a_19><b_20><c_43>',\n",
       " '<a_44><b_47><c_19>',\n",
       " '<a_28><b_14><c_19>',\n",
       " '<a_59><b_50><c_50>',\n",
       " '<a_13><b_48><c_42>',\n",
       " '<a_11><b_12><c_10>',\n",
       " '<a_33><b_23><c_18>',\n",
       " '<a_50><b_7><c_29>',\n",
       " '<a_43><b_4><c_52>',\n",
       " '<a_36><b_33><c_53>',\n",
       " '<a_1><b_38><c_60>',\n",
       " '<a_14><b_28><c_43>',\n",
       " '<a_40><b_27><c_54>',\n",
       " '<a_0><b_56><c_52>',\n",
       " '<a_30><b_23><c_51>',\n",
       " '<a_23><b_7><c_4>',\n",
       " '<a_28><b_21><c_62>',\n",
       " '<a_40><b_48><c_26>',\n",
       " '<a_4><b_54><c_48>',\n",
       " '<a_55><b_32><c_14>',\n",
       " '<a_51><b_59><c_5>',\n",
       " '<a_54><b_22><c_57>',\n",
       " '<a_14><b_12><c_30>',\n",
       " '<a_40><b_22><c_34>',\n",
       " '<a_1><b_3><c_43>',\n",
       " '<a_62><b_26><c_5>',\n",
       " '<a_31><b_45><c_44>',\n",
       " '<a_15><b_1><c_57>',\n",
       " '<a_54><b_32><c_40>',\n",
       " '<a_32><b_57><c_61>',\n",
       " '<a_33><b_18><c_63>',\n",
       " '<a_50><b_14><c_50>',\n",
       " '<a_45><b_18><c_34>',\n",
       " '<a_36><b_59><c_48>',\n",
       " '<a_13><b_33><c_15>',\n",
       " '<a_11><b_19><c_22>',\n",
       " '<a_3><b_35><c_41>',\n",
       " '<a_30><b_16><c_43>',\n",
       " '<a_22><b_5><c_30>',\n",
       " '<a_32><b_10><c_54>',\n",
       " '<a_34><b_39><c_15>',\n",
       " '<a_51><b_33><c_63>',\n",
       " '<a_56><b_59><c_62>',\n",
       " '<a_60><b_19><c_28>',\n",
       " '<a_44><b_24><c_57>',\n",
       " '<a_47><b_63><c_14>',\n",
       " '<a_45><b_16><c_63>',\n",
       " '<a_25><b_46><c_62>',\n",
       " '<a_1><b_50><c_11>',\n",
       " '<a_54><b_25><c_42>',\n",
       " '<a_11><b_39><c_30>',\n",
       " '<a_22><b_8><c_55>',\n",
       " '<a_36><b_39><c_37>',\n",
       " '<a_4><b_9><c_7>',\n",
       " '<a_14><b_31><c_30>',\n",
       " '<a_0><b_61><c_31>',\n",
       " '<a_14><b_10><c_61>']"
      ]
     },
     "execution_count": 57,
     "metadata": {},
     "output_type": "execute_result"
    }
   ],
   "source": [
    "import string\n",
    "\n",
    "def encode_poi_sid(model: RQVAE, batch: torch.Tensor):\n",
    "    letters = string.ascii_lowercase\n",
    "    batch_size = batch.size(0)\n",
    "    all_indices:list[torch.Tensor]\n",
    "    \n",
    "    _, _, all_indices = model.forward(batch)\n",
    "\n",
    "    codebook_num = len(all_indices)\n",
    "    assert codebook_num <= len(letters)\n",
    "    \n",
    "    sids = [\n",
    "        \"\".join([\n",
    "            f\"<{letters[level]}_{all_indices[level][i]}>\"\n",
    "            for level in range(codebook_num)\n",
    "        ])\n",
    "        for i in range(batch_size)\n",
    "    ]\n",
    "\n",
    "    return sids\n",
    "\n",
    "encode_poi_sid(model, x)\n"
   ]
  },
  {
   "cell_type": "code",
   "execution_count": 54,
   "id": "2e265322",
   "metadata": {},
   "outputs": [
    {
     "data": {
      "text/plain": [
       "'abcdefghijklmnopqrstuvwxyz'"
      ]
     },
     "execution_count": 54,
     "metadata": {},
     "output_type": "execute_result"
    }
   ],
   "source": [
    "import string\n",
    "\n",
    "string.ascii_lowercase"
   ]
  }
 ],
 "metadata": {
  "kernelspec": {
   "display_name": ".venv",
   "language": "python",
   "name": "python3"
  },
  "language_info": {
   "codemirror_mode": {
    "name": "ipython",
    "version": 3
   },
   "file_extension": ".py",
   "mimetype": "text/x-python",
   "name": "python",
   "nbconvert_exporter": "python",
   "pygments_lexer": "ipython3",
   "version": "3.13.7"
  }
 },
 "nbformat": 4,
 "nbformat_minor": 5
}
