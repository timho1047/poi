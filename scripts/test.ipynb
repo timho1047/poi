{
 "cells": [
  {
   "cell_type": "code",
   "execution_count": 1,
   "id": "891e4766",
   "metadata": {},
   "outputs": [
    {
     "name": "stderr",
     "output_type": "stream",
     "text": [
      "/home/vislab/poi/.venv/lib/python3.13/site-packages/tqdm/auto.py:21: TqdmWarning: IProgress not found. Please update jupyter and ipywidgets. See https://ipywidgets.readthedocs.io/en/stable/user_install.html\n",
      "  from .autonotebook import tqdm as notebook_tqdm\n",
      "Map: 100%|██████████| 2848/2848 [00:00<00:00, 59870.28 examples/s]\n",
      "Map: 100%|██████████| 876/876 [00:00<00:00, 60741.79 examples/s]\n"
     ]
    }
   ],
   "source": [
    "from poi.dataset.llm import load_llm_dataset\n",
    "from poi.llm import LLMConfig, train_llm\n",
    "from poi.settings import DATASETS_DIR\n",
    "\n",
    "\n",
    "config = LLMConfig(run_name=\"llama3-nyc-1\", quantization_bits=4)\n",
    "# Create dataset\n",
    "train_dataset = load_llm_dataset(DATASETS_DIR / \"NYC\" / \"train_codebook.json\", config)\n",
    "eval_dataset = load_llm_dataset(DATASETS_DIR / \"NYC\" / \"test_codebook.json\", config)"
   ]
  },
  {
   "cell_type": "code",
   "execution_count": 2,
   "id": "ce7098e4",
   "metadata": {},
   "outputs": [
    {
     "name": "stdout",
     "output_type": "stream",
     "text": [
      "\n",
      "Train sequence length statistics:\n",
      "  Min: 331\n",
      "  Max: 1547\n",
      "  Mean: 1398.1\n",
      "  Median: 1423\n",
      "\n",
      "  Distribution:\n",
      "    300-399: 5 examples\n",
      "    400-499: 6 examples\n",
      "    500-599: 9 examples\n",
      "    600-699: 17 examples\n",
      "    700-799: 8 examples\n",
      "    800-899: 25 examples\n",
      "    900-999: 18 examples\n",
      "    1000-1099: 42 examples\n",
      "    1100-1199: 32 examples\n",
      "    1200-1299: 36 examples\n",
      "    1300-1399: 707 examples\n",
      "    1400-1499: 1775 examples\n",
      "    1500-1599: 168 examples\n",
      "\n",
      "Eval sequence length statistics:\n",
      "  Min: 509\n",
      "  Max: 1551\n",
      "  Mean: 1410.8\n",
      "  Median: 1423\n",
      "\n",
      "  Distribution:\n",
      "    500-599: 1 examples\n",
      "    600-699: 1 examples\n",
      "    700-799: 1 examples\n",
      "    800-899: 3 examples\n",
      "    900-999: 5 examples\n",
      "    1000-1099: 10 examples\n",
      "    1100-1199: 12 examples\n",
      "    1200-1299: 21 examples\n",
      "    1300-1399: 215 examples\n",
      "    1400-1499: 561 examples\n",
      "    1500-1599: 46 examples\n"
     ]
    }
   ],
   "source": [
    "from poi.dataset.utils import check_sequence_lengths\n",
    "\n",
    "\n",
    "# After line 13 in train_llm.py:\n",
    "check_sequence_lengths(train_dataset, config.tokenizer, \"Train\")\n",
    "check_sequence_lengths(eval_dataset, config.tokenizer, \"Eval\")\n"
   ]
  }
 ],
 "metadata": {
  "kernelspec": {
   "display_name": ".venv",
   "language": "python",
   "name": "python3"
  },
  "language_info": {
   "codemirror_mode": {
    "name": "ipython",
    "version": 3
   },
   "file_extension": ".py",
   "mimetype": "text/x-python",
   "name": "python",
   "nbconvert_exporter": "python",
   "pygments_lexer": "ipython3",
   "version": "3.13.7"
  }
 },
 "nbformat": 4,
 "nbformat_minor": 5
}
