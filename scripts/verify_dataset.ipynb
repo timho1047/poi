{
 "cells": [
  {
   "cell_type": "code",
   "execution_count": 2,
   "id": "b73e79e9",
   "metadata": {},
   "outputs": [],
   "source": [
    "from poi.dataset.llm import load_prompt_completion_llm_dataset\n",
    "from poi import settings\n",
    "\n",
    "ds_dir = settings.DATASETS_DIR / \"NYC\" / \"LLM Dataset\" / \"rqvae-nyc-div0.25-commit0.5-lr5e-5\"\n",
    "\n",
    "train_ds_path = ds_dir / \"train_codebook.json\"\n",
    "val_ds_path = ds_dir / \"val_codebook.json\"\n",
    "test_ds_path = ds_dir / \"test_codebook.json\"\n",
    "\n",
    "train_ds = load_prompt_completion_llm_dataset(train_ds_path)\n",
    "test_ds = load_prompt_completion_llm_dataset(test_ds_path)\n",
    "val_ds = load_prompt_completion_llm_dataset(val_ds_path)\n",
    "\n"
   ]
  },
  {
   "cell_type": "code",
   "execution_count": 10,
   "id": "a454ab31",
   "metadata": {},
   "outputs": [
    {
     "name": "stdout",
     "output_type": "stream",
     "text": [
      "Here is a record of a user's POI accesses, your task is based on the history to predict the POI that the user is likely to access at the specified time.\n",
      "User_1 visited: <a_11><b_27><c_21> at 2012-06-04 22:51:07, <a_0><b_20><c_12> at 2012-06-05 07:01:39, <a_0><b_7><c_27> at 2012-06-05 07:29:47, <a_0><b_20><c_12> at 2012-06-06 07:24:27, <a_10><b_19><c_1> at 2012-06-06 09:47:16, <a_0><b_7><c_27> at 2012-06-06 11:10:58, <a_11><b_27><c_21> at 2012-06-06 22:48:20, <a_0><b_7><c_27> at 2012-06-07 14:08:17, <a_11><b_27><c_21> at 2012-06-08 22:51:45, <a_0><b_7><c_27> at 2012-06-09 07:22:27, <a_0><b_7><c_27> at 2012-06-10 07:27:59, <a_11><b_27><c_21> at 2012-06-10 22:58:51, <a_0><b_7><c_27> at 2012-06-11 05:39:55, <a_11><b_27><c_21> at 2012-06-11 22:59:39, <a_11><b_27><c_21> at 2012-06-12 22:55:16, <a_0><b_20><c_12> at 2012-06-13 07:05:41, <a_0><b_7><c_27> at 2012-06-13 07:28:57, <a_11><b_27><c_21> at 2012-06-18 00:42:18, <a_0><b_20><c_12> at 2012-06-25 06:08:56, <a_11><b_27><c_21> at 2012-06-26 22:53:55, <a_0><b_7><c_27> at 2012-07-03 01:01:51, <a_10><b_19><c_1> at 2012-07-03 14:19:41, <a_11><b_27><c_21> at 2012-07-07 00:10:21, <a_0><b_7><c_27> at 2012-07-07 07:36:23, <a_30><b_30><c_13> at 2012-07-09 19:39:17, <a_11><b_18><c_23> at 2012-07-11 17:59:50, <a_10><b_19><c_1> at 2012-07-15 08:07:48, <a_10><b_19><c_1> at 2012-07-16 10:48:58, <a_10><b_19><c_1> at 2012-07-22 09:45:32, <a_10><b_19><c_1> at 2012-07-24 08:14:33, <a_10><b_19><c_1> at 2012-07-28 08:15:30, <a_6><b_12><c_7> at 2012-07-28 22:13:36, <a_0><b_7><c_27> at 2012-07-29 00:13:55, <a_10><b_19><c_1> at 2012-07-29 16:03:38, <a_10><b_19><c_1> at 2012-07-30 08:23:59, <a_10><b_19><c_1> at 2012-08-13 13:28:40, <a_0><b_7><c_27> at 2012-08-16 16:26:45, <a_30><b_30><c_13> at 2012-08-19 18:17:36, <a_14><b_16><c_20> at 2012-08-19 18:39:15, <a_0><b_7><c_27> at 2012-08-19 19:32:09, <a_10><b_19><c_1> at 2012-09-09 09:29:17, <a_0><b_7><c_27> at 2012-09-09 16:14:27, <a_10><b_19><c_1> at 2012-09-14 08:17:02, <a_0><b_7><c_27> at 2012-09-15 02:14:49, <a_2><b_5><c_28> at 2012-09-15 19:05:28, <a_10><b_19><c_1> at 2012-10-08 10:16:13, <a_10><b_19><c_1> at 2012-10-16 08:18:49, <a_0><b_7><c_27> at 2012-10-24 13:56:41, <a_10><b_19><c_1> at 2012-10-25 14:21:44. When 2012-11-05 13:20:04 user_1 is likely to visit: \n",
      "User_1\n",
      "['<a_11><b_27><c_21>', '<a_0><b_20><c_12>', '<a_0><b_7><c_27>', '<a_0><b_20><c_12>', '<a_10><b_19><c_1>', '<a_0><b_7><c_27>', '<a_11><b_27><c_21>', '<a_0><b_7><c_27>', '<a_11><b_27><c_21>', '<a_0><b_7><c_27>', '<a_0><b_7><c_27>', '<a_11><b_27><c_21>', '<a_0><b_7><c_27>', '<a_11><b_27><c_21>', '<a_11><b_27><c_21>', '<a_0><b_20><c_12>', '<a_0><b_7><c_27>', '<a_11><b_27><c_21>', '<a_0><b_20><c_12>', '<a_11><b_27><c_21>', '<a_0><b_7><c_27>', '<a_10><b_19><c_1>', '<a_11><b_27><c_21>', '<a_0><b_7><c_27>', '<a_30><b_30><c_13>', '<a_11><b_18><c_23>', '<a_10><b_19><c_1>', '<a_10><b_19><c_1>', '<a_10><b_19><c_1>', '<a_10><b_19><c_1>', '<a_10><b_19><c_1>', '<a_6><b_12><c_7>', '<a_0><b_7><c_27>', '<a_10><b_19><c_1>', '<a_10><b_19><c_1>', '<a_10><b_19><c_1>', '<a_0><b_7><c_27>', '<a_30><b_30><c_13>', '<a_14><b_16><c_20>', '<a_0><b_7><c_27>', '<a_10><b_19><c_1>', '<a_0><b_7><c_27>', '<a_10><b_19><c_1>', '<a_0><b_7><c_27>', '<a_2><b_5><c_28>', '<a_10><b_19><c_1>', '<a_10><b_19><c_1>', '<a_0><b_7><c_27>', '<a_10><b_19><c_1>', '<a_10><b_19><c_1>']\n"
     ]
    }
   ],
   "source": [
    "import re\n",
    "\n",
    "SID_PATTERN = r\"(?:<\\w_\\d+>)+\"\n",
    "USER_PATTERN = r\"User_\\d+\"\n",
    "\n",
    "def extract_user_sids(record):\n",
    "    prompt = record[\"prompt\"]\n",
    "    completion = record[\"completion\"]\n",
    "\n",
    "    user = re.findall(USER_PATTERN, prompt)[0]\n",
    "    prompt_sids = re.findall(SID_PATTERN, prompt)\n",
    "    completion_sids = re.findall(SID_PATTERN, completion)\n",
    "    \n",
    "    sids = prompt_sids + completion_sids\n",
    "    return user, sids\n",
    "\n",
    "\n",
    "# Use non-capturing group (?:...) so findall returns the full match\n",
    "\n",
    "prompt = train_ds[0][\"prompt\"]\n",
    "completion = train_ds[0][\"completion\"]\n",
    "\n",
    "print(prompt)\n",
    "\n",
    "user, sids = extract_user_sids(train_ds[0])\n",
    "print(user)\n",
    "print(sids)\n"
   ]
  },
  {
   "cell_type": "code",
   "execution_count": 12,
   "id": "01e745a8",
   "metadata": {},
   "outputs": [],
   "source": [
    "def find_all_user_sids(ds):\n",
    "    users = set()\n",
    "    sids = set()\n",
    "    for record in ds:\n",
    "        user, sids_in_record = extract_user_sids(record)\n",
    "        users.add(user)\n",
    "        sids.update(sids_in_record)\n",
    "    return users, sids\n",
    "\n",
    "train_users, train_sids = find_all_user_sids(train_ds)\n",
    "val_users, val_sids = find_all_user_sids(val_ds)\n",
    "test_users, test_sids = find_all_user_sids(test_ds)\n",
    "\n"
   ]
  },
  {
   "cell_type": "code",
   "execution_count": 16,
   "id": "ed07d68f",
   "metadata": {},
   "outputs": [
    {
     "name": "stdout",
     "output_type": "stream",
     "text": [
      "Users in test but not in train: {'User_597', 'User_796', 'User_941', 'User_455', 'User_112', 'User_871', 'User_515'}\n",
      "\n",
      "Users in val but not in train: {'User_597', 'User_796', 'User_941', 'User_455', 'User_112', 'User_871', 'User_515'}\n",
      "\n",
      "SIDs in test but not in train: {'<a_2><b_5><c_23>', '<a_16><b_28><c_27>', '<a_10><b_28><c_19>', '<a_2><b_31><c_29>', '<a_2><b_2><c_18>', '<a_2><b_31><c_1>', '<a_10><b_21><c_12>', '<a_10><b_16><c_6>', '<a_27><b_16><c_21>', '<a_29><b_8><c_14>', '<a_29><b_9><c_7>', '<a_10><b_14><c_3>', '<a_25><b_21><c_10>', '<a_10><b_10><c_5>', '<a_2><b_27><c_11>', '<a_2><b_3><c_23>', '<a_29><b_21><c_27>', '<a_10><b_31><c_31>', '<a_2><b_12><c_31>', '<a_2><b_26><c_9>'}\n",
      "\n",
      "SIDs in val but not in train: {'<a_2><b_5><c_23>', '<a_16><b_28><c_27>', '<a_10><b_28><c_19>', '<a_2><b_31><c_29>', '<a_2><b_2><c_18>', '<a_2><b_31><c_1>', '<a_10><b_21><c_12>', '<a_10><b_16><c_6>', '<a_27><b_16><c_21>', '<a_29><b_8><c_14>', '<a_29><b_9><c_7>', '<a_10><b_14><c_3>', '<a_25><b_21><c_10>', '<a_10><b_10><c_5>', '<a_2><b_27><c_11>', '<a_2><b_3><c_23>', '<a_29><b_21><c_27>', '<a_10><b_31><c_31>', '<a_2><b_12><c_31>', '<a_2><b_26><c_9>'}\n",
      "\n"
     ]
    }
   ],
   "source": [
    "print(\"Users in test but not in train:\", test_users - train_users)\n",
    "print()\n",
    "print(\"Users in val but not in train:\", val_users - train_users)\n",
    "print()\n",
    "\n",
    "print(\"SIDs in test but not in train:\", test_sids - train_sids)\n",
    "print()\n",
    "print(\"SIDs in val but not in train:\", val_sids - train_sids)\n",
    "print()\n",
    "\n",
    "\n",
    "\n",
    "\n"
   ]
  }
 ],
 "metadata": {
  "kernelspec": {
   "display_name": ".venv",
   "language": "python",
   "name": "python3"
  },
  "language_info": {
   "codemirror_mode": {
    "name": "ipython",
    "version": 3
   },
   "file_extension": ".py",
   "mimetype": "text/x-python",
   "name": "python",
   "nbconvert_exporter": "python",
   "pygments_lexer": "ipython3",
   "version": "3.13.7"
  }
 },
 "nbformat": 4,
 "nbformat_minor": 5
}
